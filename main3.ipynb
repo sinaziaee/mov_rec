{
 "cells": [
  {
   "cell_type": "code",
   "execution_count": 1,
   "metadata": {},
   "outputs": [],
   "source": [
    "# Standard library imports\n",
    "import random\n",
    "import time\n",
    "\n",
    "# Third-party imports\n",
    "import matplotlib.pyplot as plt\n",
    "import networkx as nx\n",
    "import numpy as np\n",
    "import pandas as pd\n",
    "pd.set_option('display.max_colwidth', None)\n",
    "\n",
    "import torch\n",
    "import torch.nn as nn\n",
    "import torch.nn.functional as F\n",
    "import torch.optim as optim\n",
    "# from torch.utils.data import Dataset, DataLoader\n",
    "import torch_geometric\n",
    "from torch_geometric.nn.conv import MessagePassing\n",
    "from torch_geometric.utils import degree\n",
    "\n",
    "from tqdm.notebook import tqdm\n",
    "from sklearn import preprocessing as pp\n",
    "from sklearn.model_selection import train_test_split\n",
    "import scipy.sparse as sp\n",
    "import pathlib"
   ]
  },
  {
   "cell_type": "code",
   "execution_count": 2,
   "metadata": {},
   "outputs": [
    {
     "name": "stdout",
     "output_type": "stream",
     "text": [
      "(69840, 1)\n",
      "(9948371, 3)\n"
     ]
    }
   ],
   "source": [
    "base_dir = pathlib.Path().resolve()\n",
    "datasets_path = f'{base_dir}/Dataset'\n",
    "users_df = pd.read_csv(f'{datasets_path}/users.csv')\n",
    "print(users_df.shape)\n",
    "all_ratings_df = pd.read_csv(f'{datasets_path}/ratings_v2_numberOfMore3RateForEachUser50to400.csv')\n",
    "print(all_ratings_df.shape)\n",
    "# filtered_ratings_df = pd.read_csv(f'{datasets_path}/ratings_v3_numberOfRateForEachUser50to400_and_RatingMore3.csv')\n",
    "# print(filtered_ratings_df.shape)"
   ]
  },
  {
   "cell_type": "code",
   "execution_count": 3,
   "metadata": {},
   "outputs": [
    {
     "data": {
      "text/plain": [
       "rating\n",
       "0.5     131528\n",
       "1.0     222606\n",
       "1.5     146523\n",
       "2.0     527298\n",
       "2.5     480446\n",
       "3.0    1635886\n",
       "3.5    1343258\n",
       "4.0    2723141\n",
       "4.5    1119853\n",
       "5.0    1617832\n",
       "Name: rating, dtype: int64"
      ]
     },
     "execution_count": 3,
     "metadata": {},
     "output_type": "execute_result"
    }
   ],
   "source": [
    "all_ratings_df.groupby(['rating'])['rating'].count()"
   ]
  },
  {
   "cell_type": "code",
   "execution_count": 4,
   "metadata": {},
   "outputs": [
    {
     "data": {
      "image/png": "[encoded data removed]",
      "text/plain": [
       "<Figure size 432x288 with 1 Axes>"
      ]
     },
     "metadata": {
      "needs_background": "light"
     },
     "output_type": "display_data"
    }
   ],
   "source": [
    "plt.bar([i*0.5 for i in range(1, 11)], np.array(all_ratings_df.groupby(['rating'])['rating'].count()))\n",
    "plt.xlabel('rating')\n",
    "plt.ylabel('number of ratings')\n",
    "plt.show()"
   ]
  },
  {
   "cell_type": "code",
   "execution_count": 5,
   "metadata": {},
   "outputs": [
    {
     "name": "stdout",
     "output_type": "stream",
     "text": [
      "(1318, 3)\n",
      "19\n"
     ]
    }
   ],
   "source": [
    "movies_df = pd.read_csv(f'{datasets_path}/movies.csv')\n",
    "print(movies_df.shape)\n",
    "genres_title_list = []\n",
    "for row in movies_df.values:\n",
    "    genres = row[2].split(\"|\")\n",
    "    for genre in genres:\n",
    "        if genre not in genres_title_list:\n",
    "            genres_title_list.append(genre)\n",
    "print(len(genres_title_list))\n",
    "\n",
    "def find_genres_columns(current_genres, genres_title_list):\n",
    "    temp_list = []\n",
    "    for genre in genres_title_list:\n",
    "        if genre in current_genres:\n",
    "            temp_list.append(1)\n",
    "        else:\n",
    "            temp_list.append(0)\n",
    "    temp_list = np.array(temp_list)\n",
    "    return temp_list\n",
    "\n",
    "temp = movies_df.copy(deep=True)\n",
    "year_list = []\n",
    "name_list = []\n",
    "genres_list = []\n",
    "for row in temp.values:\n",
    "    id = row[0]\n",
    "    name = str(row[1]).strip()\n",
    "    name_inx = str(name).find('(')\n",
    "    year = name[-5:-1]\n",
    "    try:\n",
    "        year = int(year)\n",
    "    except Exception as e:\n",
    "        year = -1\n",
    "    genres = row[2].split('|')\n",
    "    genres = find_genres_columns(genres, genres_title_list)\n",
    "    genres_list.append(genres)\n",
    "    name = name[:name_inx-1].replace('(', '').replace(')', '')\n",
    "    year_list.append(year)\n",
    "    name_list.append(name)\n",
    "genres_list = np.array(genres_list)\n",
    "year_list = np.array(year_list)\n",
    "name_list = np.array(name_list)\n",
    "temp['title'] = name_list\n",
    "temp['year'] = year_list\n",
    "temp['genres'] = list(genres_list)\n",
    "for i, genre in enumerate(genres_title_list):\n",
    "    temp[genre] = genres_list[:, i]\n",
    "\n",
    "temp = temp[temp['(no genres listed)'] == 0]\n",
    "del temp['(no genres listed)']\n",
    "temp.head()\n",
    "movies_df = temp\n",
    "del movies_df['genres']"
   ]
  },
  {
   "cell_type": "code",
   "execution_count": 89,
   "metadata": {},
   "outputs": [
    {
     "data": {
      "text/html": [
       "<div>\n",
       "<style scoped>\n",
       "    .dataframe tbody tr th:only-of-type {\n",
       "        vertical-align: middle;\n",
       "    }\n",
       "\n",
       "    .dataframe tbody tr th {\n",
       "        vertical-align: top;\n",
       "    }\n",
       "\n",
       "    .dataframe thead th {\n",
       "        text-align: right;\n",
       "    }\n",
       "</style>\n",
       "<table border=\"1\" class=\"dataframe\">\n",
       "  <thead>\n",
       "    <tr style=\"text-align: right;\">\n",
       "      <th></th>\n",
       "      <th>userId</th>\n",
       "      <th>movieId</th>\n",
       "      <th>rating</th>\n",
       "    </tr>\n",
       "  </thead>\n",
       "  <tbody>\n",
       "    <tr>\n",
       "      <th>0</th>\n",
       "      <td>4</td>\n",
       "      <td>114709</td>\n",
       "      <td>4.0</td>\n",
       "    </tr>\n",
       "    <tr>\n",
       "      <th>1</th>\n",
       "      <td>4</td>\n",
       "      <td>113497</td>\n",
       "      <td>4.0</td>\n",
       "    </tr>\n",
       "    <tr>\n",
       "      <th>2</th>\n",
       "      <td>4</td>\n",
       "      <td>113277</td>\n",
       "      <td>4.5</td>\n",
       "    </tr>\n",
       "    <tr>\n",
       "      <th>3</th>\n",
       "      <td>4</td>\n",
       "      <td>113189</td>\n",
       "      <td>4.0</td>\n",
       "    </tr>\n",
       "    <tr>\n",
       "      <th>4</th>\n",
       "      <td>4</td>\n",
       "      <td>112641</td>\n",
       "      <td>4.0</td>\n",
       "    </tr>\n",
       "    <tr>\n",
       "      <th>...</th>\n",
       "      <td>...</td>\n",
       "      <td>...</td>\n",
       "      <td>...</td>\n",
       "    </tr>\n",
       "    <tr>\n",
       "      <th>9948366</th>\n",
       "      <td>283224</td>\n",
       "      <td>99423</td>\n",
       "      <td>3.0</td>\n",
       "    </tr>\n",
       "    <tr>\n",
       "      <th>9948367</th>\n",
       "      <td>283224</td>\n",
       "      <td>103776</td>\n",
       "      <td>3.0</td>\n",
       "    </tr>\n",
       "    <tr>\n",
       "      <th>9948368</th>\n",
       "      <td>283224</td>\n",
       "      <td>105690</td>\n",
       "      <td>4.0</td>\n",
       "    </tr>\n",
       "    <tr>\n",
       "      <th>9948369</th>\n",
       "      <td>283224</td>\n",
       "      <td>73195</td>\n",
       "      <td>5.0</td>\n",
       "    </tr>\n",
       "    <tr>\n",
       "      <th>9948370</th>\n",
       "      <td>283224</td>\n",
       "      <td>47478</td>\n",
       "      <td>5.0</td>\n",
       "    </tr>\n",
       "  </tbody>\n",
       "</table>\n",
       "<p>9948371 rows × 3 columns</p>\n",
       "</div>"
      ],
      "text/plain": [
       "         userId  movieId  rating\n",
       "0             4   114709     4.0\n",
       "1             4   113497     4.0\n",
       "2             4   113277     4.5\n",
       "3             4   113189     4.0\n",
       "4             4   112641     4.0\n",
       "...         ...      ...     ...\n",
       "9948366  283224    99423     3.0\n",
       "9948367  283224   103776     3.0\n",
       "9948368  283224   105690     4.0\n",
       "9948369  283224    73195     5.0\n",
       "9948370  283224    47478     5.0\n",
       "\n",
       "[9948371 rows x 3 columns]"
      ]
     },
     "execution_count": 89,
     "metadata": {},
     "output_type": "execute_result"
    }
   ],
   "source": [
    "# Converting float userIds and movieIds to integers\n",
    "user_id_list = []\n",
    "movie_id_list = []\n",
    "for row in all_ratings_df.values:\n",
    "    user_id = int(row[0])\n",
    "    movie_id = int(row[1])\n",
    "    user_id_list.append(user_id)\n",
    "    movie_id_list.append(movie_id)\n",
    "all_ratings_df['movieId'] = movie_id_list\n",
    "all_ratings_df['userId'] = user_id_list\n",
    "all_ratings_df"
   ]
  },
  {
   "cell_type": "code",
   "execution_count": 1,
   "metadata": {},
   "outputs": [
    {
     "ename": "NameError",
     "evalue": "name 'users_df' is not defined",
     "output_type": "error",
     "traceback": [
      "\u001b[0;31m---------------------------------------------------------------------------\u001b[0m",
      "\u001b[0;31mNameError\u001b[0m                                 Traceback (most recent call last)",
      "\u001b[1;32m/home/sina/PycharmProjects/movie_recommender/main3.ipynb Cell 7'\u001b[0m in \u001b[0;36m<module>\u001b[0;34m\u001b[0m\n\u001b[1;32m      <a href='vscode-notebook-cell:/home/sina/PycharmProjects/movie_recommender/main3.ipynb#ch0000006?line=0'>1</a>\u001b[0m users_dict \u001b[39m=\u001b[39m \u001b[39mdict\u001b[39m()\n\u001b[1;32m      <a href='vscode-notebook-cell:/home/sina/PycharmProjects/movie_recommender/main3.ipynb#ch0000006?line=1'>2</a>\u001b[0m count \u001b[39m=\u001b[39m \u001b[39m0\u001b[39m\n\u001b[0;32m----> <a href='vscode-notebook-cell:/home/sina/PycharmProjects/movie_recommender/main3.ipynb#ch0000006?line=2'>3</a>\u001b[0m \u001b[39mfor\u001b[39;00m row \u001b[39min\u001b[39;00m users_df\u001b[39m.\u001b[39mvalues:\n\u001b[1;32m      <a href='vscode-notebook-cell:/home/sina/PycharmProjects/movie_recommender/main3.ipynb#ch0000006?line=3'>4</a>\u001b[0m     user \u001b[39m=\u001b[39m row[\u001b[39m0\u001b[39m]\n\u001b[1;32m      <a href='vscode-notebook-cell:/home/sina/PycharmProjects/movie_recommender/main3.ipynb#ch0000006?line=4'>5</a>\u001b[0m     users_dict[user] \u001b[39m=\u001b[39m count\n",
      "\u001b[0;31mNameError\u001b[0m: name 'users_df' is not defined"
     ]
    }
   ],
   "source": [
    "users_dict = dict()\n",
    "count = 0\n",
    "for row in users_df.values:\n",
    "    user = row[0]\n",
    "    users_dict[user] = count\n",
    "    count+=1\n",
    "print(users_df.shape)\n",
    "users_features = np.zeros((users_df.shape[0], 1), dtype=np.int64)\n",
    "# users_features = np.zeros((users_df.shape[0], 1))\n",
    "users_features = torch.from_numpy(users_features)\n",
    "users_features"
   ]
  },
  {
   "cell_type": "code",
   "execution_count": 90,
   "metadata": {},
   "outputs": [
    {
     "name": "stdout",
     "output_type": "stream",
     "text": [
      "(1317, 18)\n"
     ]
    },
    {
     "data": {
      "text/plain": [
       "tensor([[1, 1, 1,  ..., 0, 0, 0],\n",
       "        [1, 0, 1,  ..., 0, 0, 0],\n",
       "        [0, 0, 0,  ..., 0, 0, 0],\n",
       "        ...,\n",
       "        [1, 0, 0,  ..., 0, 0, 0],\n",
       "        [0, 0, 0,  ..., 0, 0, 0],\n",
       "        [0, 0, 0,  ..., 0, 0, 0]])"
      ]
     },
     "execution_count": 90,
     "metadata": {},
     "output_type": "execute_result"
    }
   ],
   "source": [
    "# creating dictionaries for movies\n",
    "movie_dict = dict()\n",
    "movie_name_dict = dict()\n",
    "count = 0\n",
    "movies_features = []\n",
    "for row in movies_df.values:\n",
    "    movie_dict[row[0]] = count\n",
    "    movie_name_dict[row[1]] = row[1]\n",
    "    count+=1\n",
    "    movies_features.append(np.array(row[3:]))\n",
    "movies_features =np.array(movies_features, dtype=np.int64)\n",
    "print(movies_features.shape)\n",
    "movies_features = torch.from_numpy(movies_features)\n",
    "movies_features"
   ]
  },
  {
   "cell_type": "code",
   "execution_count": 96,
   "metadata": {},
   "outputs": [
    {
     "data": {
      "text/html": [
       "<div>\n",
       "<style scoped>\n",
       "    .dataframe tbody tr th:only-of-type {\n",
       "        vertical-align: middle;\n",
       "    }\n",
       "\n",
       "    .dataframe tbody tr th {\n",
       "        vertical-align: top;\n",
       "    }\n",
       "\n",
       "    .dataframe thead th {\n",
       "        text-align: right;\n",
       "    }\n",
       "</style>\n",
       "<table border=\"1\" class=\"dataframe\">\n",
       "  <thead>\n",
       "    <tr style=\"text-align: right;\">\n",
       "      <th></th>\n",
       "      <th>userId</th>\n",
       "      <th>movieId</th>\n",
       "      <th>rating</th>\n",
       "    </tr>\n",
       "  </thead>\n",
       "  <tbody>\n",
       "    <tr>\n",
       "      <th>0</th>\n",
       "      <td>4</td>\n",
       "      <td>114709</td>\n",
       "      <td>4.0</td>\n",
       "    </tr>\n",
       "    <tr>\n",
       "      <th>1</th>\n",
       "      <td>4</td>\n",
       "      <td>113497</td>\n",
       "      <td>4.0</td>\n",
       "    </tr>\n",
       "    <tr>\n",
       "      <th>2</th>\n",
       "      <td>4</td>\n",
       "      <td>113277</td>\n",
       "      <td>4.5</td>\n",
       "    </tr>\n",
       "    <tr>\n",
       "      <th>3</th>\n",
       "      <td>4</td>\n",
       "      <td>113189</td>\n",
       "      <td>4.0</td>\n",
       "    </tr>\n",
       "    <tr>\n",
       "      <th>4</th>\n",
       "      <td>4</td>\n",
       "      <td>112641</td>\n",
       "      <td>4.0</td>\n",
       "    </tr>\n",
       "    <tr>\n",
       "      <th>...</th>\n",
       "      <td>...</td>\n",
       "      <td>...</td>\n",
       "      <td>...</td>\n",
       "    </tr>\n",
       "    <tr>\n",
       "      <th>9948366</th>\n",
       "      <td>283224</td>\n",
       "      <td>99423</td>\n",
       "      <td>3.0</td>\n",
       "    </tr>\n",
       "    <tr>\n",
       "      <th>9948367</th>\n",
       "      <td>283224</td>\n",
       "      <td>103776</td>\n",
       "      <td>3.0</td>\n",
       "    </tr>\n",
       "    <tr>\n",
       "      <th>9948368</th>\n",
       "      <td>283224</td>\n",
       "      <td>105690</td>\n",
       "      <td>4.0</td>\n",
       "    </tr>\n",
       "    <tr>\n",
       "      <th>9948369</th>\n",
       "      <td>283224</td>\n",
       "      <td>73195</td>\n",
       "      <td>5.0</td>\n",
       "    </tr>\n",
       "    <tr>\n",
       "      <th>9948370</th>\n",
       "      <td>283224</td>\n",
       "      <td>47478</td>\n",
       "      <td>5.0</td>\n",
       "    </tr>\n",
       "  </tbody>\n",
       "</table>\n",
       "<p>9948371 rows × 3 columns</p>\n",
       "</div>"
      ],
      "text/plain": [
       "         userId  movieId  rating\n",
       "0             4   114709     4.0\n",
       "1             4   113497     4.0\n",
       "2             4   113277     4.5\n",
       "3             4   113189     4.0\n",
       "4             4   112641     4.0\n",
       "...         ...      ...     ...\n",
       "9948366  283224    99423     3.0\n",
       "9948367  283224   103776     3.0\n",
       "9948368  283224   105690     4.0\n",
       "9948369  283224    73195     5.0\n",
       "9948370  283224    47478     5.0\n",
       "\n",
       "[9948371 rows x 3 columns]"
      ]
     },
     "execution_count": 96,
     "metadata": {},
     "output_type": "execute_result"
    }
   ],
   "source": [
    "all_ratings_df"
   ]
  },
  {
   "cell_type": "code",
   "execution_count": 101,
   "metadata": {},
   "outputs": [],
   "source": [
    "all_edges = []\n",
    "all_edges_attrs = []\n",
    "for row in all_ratings_df.values:\n",
    "    user = int(row[0])\n",
    "    movie = int(row[1])\n",
    "    rating = float(row[2])\n",
    "    try:\n",
    "        all_edges.append([users_dict[user], movie_dict[movie]])\n",
    "        all_edges_attrs.append(rating)\n",
    "    except Exception as e:\n",
    "        pass"
   ]
  },
  {
   "cell_type": "code",
   "execution_count": 107,
   "metadata": {},
   "outputs": [],
   "source": [
    "all_edges = np.array(all_edges)\n",
    "edge_index = torch.from_numpy(all_edges)\n",
    "edge_index = edge_index.T"
   ]
  },
  {
   "cell_type": "code",
   "execution_count": 133,
   "metadata": {},
   "outputs": [
    {
     "data": {
      "text/plain": [
       "tensor([4.0000, 4.0000, 4.5000,  ..., 4.0000, 5.0000, 5.0000],\n",
       "       dtype=torch.float16)"
      ]
     },
     "execution_count": 133,
     "metadata": {},
     "output_type": "execute_result"
    }
   ],
   "source": [
    "all_edges_attrs = np.array(all_edges_attrs, dtype=np.float16)\n",
    "edge_attr = torch.from_numpy(all_edges_attrs)\n",
    "edge_attr"
   ]
  },
  {
   "cell_type": "code",
   "execution_count": 134,
   "metadata": {},
   "outputs": [
    {
     "data": {
      "text/plain": [
       "(tensor([[1, 1, 1,  ..., 0, 0, 0],\n",
       "         [1, 0, 1,  ..., 0, 0, 0],\n",
       "         [0, 0, 0,  ..., 0, 0, 0],\n",
       "         ...,\n",
       "         [1, 0, 0,  ..., 0, 0, 0],\n",
       "         [0, 0, 0,  ..., 0, 0, 0],\n",
       "         [0, 0, 0,  ..., 0, 0, 0]]),\n",
       " tensor([[0],\n",
       "         [0],\n",
       "         [0],\n",
       "         ...,\n",
       "         [0],\n",
       "         [0],\n",
       "         [0]]),\n",
       " tensor([[    0,     0,     0,  ..., 69839, 69839, 69839],\n",
       "         [    0,     1,     2,  ...,   238,   239,   312]]),\n",
       " tensor([4.0000, 4.0000, 4.5000,  ..., 4.0000, 5.0000, 5.0000],\n",
       "        dtype=torch.float16))"
      ]
     },
     "execution_count": 134,
     "metadata": {},
     "output_type": "execute_result"
    }
   ],
   "source": [
    "movies_features, users_features, edge_index, edge_attr"
   ]
  },
  {
   "cell_type": "markdown",
   "metadata": {},
   "source": [
    "### remember that movies with no genres are deleted (in our case only one movie is deleted)"
   ]
  },
  {
   "cell_type": "markdown",
   "metadata": {},
   "source": [
    "## remember to run your model once as directed and once as undirected graphs"
   ]
  },
  {
   "cell_type": "code",
   "execution_count": 71,
   "metadata": {},
   "outputs": [],
   "source": [
    "import torch_geometric.transforms as T\n",
    "\n",
    "# data = T.ToUndirected()(data)\n",
    "# data = T.AddSelfLoops()(data)\n",
    "# data = T.NormalizeFeatures()(data)"
   ]
  },
  {
   "cell_type": "code",
   "execution_count": 215,
   "metadata": {},
   "outputs": [],
   "source": [
    "u_f = users_features\n",
    "m_f = movies_features\n",
    "e_i = edge_index\n",
    "e_a = edge_attr.long()"
   ]
  },
  {
   "cell_type": "code",
   "execution_count": 216,
   "metadata": {},
   "outputs": [],
   "source": [
    "from torch_geometric.data import HeteroData\n",
    "data = HeteroData()\n",
    "\n",
    "# data['user'].x = users_features\n",
    "# data['movie'].x = movies_features\n",
    "# data['user', 'rate', 'movie'].edge_index = edge_index\n",
    "# data['user', 'rate', 'movie'].edge_attr = edge_attr\n",
    "\n",
    "data['user'].x = u_f\n",
    "data['movie'].x = m_f\n",
    "data['user', 'rate', 'movie'].edge_index = e_i\n",
    "data['user', 'rate', 'movie'].edge_attr = e_a"
   ]
  },
  {
   "cell_type": "code",
   "execution_count": 3,
   "metadata": {},
   "outputs": [
    {
     "ename": "NameError",
     "evalue": "name 'data' is not defined",
     "output_type": "error",
     "traceback": [
      "\u001b[0;31m---------------------------------------------------------------------------\u001b[0m",
      "\u001b[0;31mNameError\u001b[0m                                 Traceback (most recent call last)",
      "\u001b[1;32m/home/sina/PycharmProjects/movie_recommender/main3.ipynb Cell 19'\u001b[0m in \u001b[0;36m<module>\u001b[0;34m\u001b[0m\n\u001b[0;32m----> <a href='vscode-notebook-cell:/home/sina/PycharmProjects/movie_recommender/main3.ipynb#ch0000018?line=0'>1</a>\u001b[0m \u001b[39mdel\u001b[39;00m data\n",
      "\u001b[0;31mNameError\u001b[0m: name 'data' is not defined"
     ]
    }
   ],
   "source": [
    "del data"
   ]
  },
  {
   "cell_type": "code",
   "execution_count": 218,
   "metadata": {},
   "outputs": [],
   "source": [
    "from torch_geometric.nn import SAGEConv, to_hetero\n",
    "\n",
    "class GNN(torch.nn.Module):\n",
    "    def __init__(self, hidden_channels, out_channels):\n",
    "        super().__init__()\n",
    "        self.conv1 = SAGEConv((-1, -1), hidden_channels)\n",
    "        self.conv2 = SAGEConv((-1, -1), out_channels)\n",
    "\n",
    "    def forward(self, x, edge_index):\n",
    "        x = self.conv1(x, edge_index).relu()\n",
    "        x = self.conv2(x, edge_index)\n",
    "        return x\n",
    "\n",
    "model = GNN(hidden_channels=64, out_channels=128)\n",
    "model = to_hetero(model, data.metadata(), aggr='sum')"
   ]
  },
  {
   "cell_type": "code",
   "execution_count": 219,
   "metadata": {},
   "outputs": [
    {
     "name": "stdout",
     "output_type": "stream",
     "text": [
      "torch.int64\n",
      "torch.float16\n",
      "torch.int64\n",
      "torch.int64\n"
     ]
    }
   ],
   "source": [
    "print(edge_index.dtype)\n",
    "print(edge_attr.dtype)\n",
    "print(users_features.dtype)\n",
    "print(movies_features.dtype)"
   ]
  },
  {
   "cell_type": "code",
   "execution_count": 210,
   "metadata": {},
   "outputs": [],
   "source": [
    "import torch_geometric.transforms as T\n",
    "transform = T.RandomNodeSplit()\n",
    "data2 = transform(data)"
   ]
  },
  {
   "cell_type": "code",
   "execution_count": 211,
   "metadata": {},
   "outputs": [
    {
     "data": {
      "text/plain": [
       "HeteroData(\n",
       "  \u001b[1muser\u001b[0m={ x=[69840, 1] },\n",
       "  \u001b[1mmovie\u001b[0m={ x=[1317, 18] },\n",
       "  \u001b[1m(user, rate, movie)\u001b[0m={\n",
       "    edge_index=[2, 9948244],\n",
       "    edge_attr=[9948244]\n",
       "  }\n",
       ")"
      ]
     },
     "execution_count": 211,
     "metadata": {},
     "output_type": "execute_result"
    }
   ],
   "source": [
    "data2"
   ]
  },
  {
   "cell_type": "markdown",
   "metadata": {},
   "source": [
    "## training in full batch mode"
   ]
  },
  {
   "cell_type": "code",
   "execution_count": 221,
   "metadata": {},
   "outputs": [
    {
     "ename": "RuntimeError",
     "evalue": "expected scalar type Float but found Long",
     "output_type": "error",
     "traceback": [
      "\u001b[0;31m---------------------------------------------------------------------------\u001b[0m",
      "\u001b[0;31mRuntimeError\u001b[0m                              Traceback (most recent call last)",
      "\u001b[1;32m/home/sina/PycharmProjects/movie_recommender/main3.ipynb Cell 25'\u001b[0m in \u001b[0;36m<module>\u001b[0;34m\u001b[0m\n\u001b[1;32m     <a href='vscode-notebook-cell:/home/sina/PycharmProjects/movie_recommender/main3.ipynb#ch0000019?line=11'>12</a>\u001b[0m     \u001b[39mreturn\u001b[39;00m \u001b[39mfloat\u001b[39m(loss)\n\u001b[1;32m     <a href='vscode-notebook-cell:/home/sina/PycharmProjects/movie_recommender/main3.ipynb#ch0000019?line=13'>14</a>\u001b[0m \u001b[39mfor\u001b[39;00m epoch \u001b[39min\u001b[39;00m \u001b[39mrange\u001b[39m(\u001b[39m1\u001b[39m, \u001b[39m3\u001b[39m\u001b[39m+\u001b[39m\u001b[39m1\u001b[39m):\n\u001b[0;32m---> <a href='vscode-notebook-cell:/home/sina/PycharmProjects/movie_recommender/main3.ipynb#ch0000019?line=14'>15</a>\u001b[0m     loss \u001b[39m=\u001b[39m train()\n\u001b[1;32m     <a href='vscode-notebook-cell:/home/sina/PycharmProjects/movie_recommender/main3.ipynb#ch0000019?line=15'>16</a>\u001b[0m     \u001b[39mprint\u001b[39m(loss\u001b[39m.\u001b[39mitem())\n",
      "\u001b[1;32m/home/sina/PycharmProjects/movie_recommender/main3.ipynb Cell 25'\u001b[0m in \u001b[0;36mtrain\u001b[0;34m()\u001b[0m\n\u001b[1;32m      <a href='vscode-notebook-cell:/home/sina/PycharmProjects/movie_recommender/main3.ipynb#ch0000019?line=3'>4</a>\u001b[0m optimizer\u001b[39m.\u001b[39mzero_grad()\n\u001b[1;32m      <a href='vscode-notebook-cell:/home/sina/PycharmProjects/movie_recommender/main3.ipynb#ch0000019?line=4'>5</a>\u001b[0m \u001b[39m# out = model(data.x_dict, data.edge_index_dict)\u001b[39;00m\n\u001b[1;32m      <a href='vscode-notebook-cell:/home/sina/PycharmProjects/movie_recommender/main3.ipynb#ch0000019?line=5'>6</a>\u001b[0m \u001b[39m# out = model(data.xd, data.edge_index_dict)\u001b[39;00m\n\u001b[0;32m----> <a href='vscode-notebook-cell:/home/sina/PycharmProjects/movie_recommender/main3.ipynb#ch0000019?line=6'>7</a>\u001b[0m out \u001b[39m=\u001b[39m model(data2\u001b[39m.\u001b[39;49mx_dict, data2\u001b[39m.\u001b[39;49medge_index_dict)\n\u001b[1;32m      <a href='vscode-notebook-cell:/home/sina/PycharmProjects/movie_recommender/main3.ipynb#ch0000019?line=7'>8</a>\u001b[0m \u001b[39m# mask = data['paper'].train_mask\u001b[39;00m\n\u001b[1;32m      <a href='vscode-notebook-cell:/home/sina/PycharmProjects/movie_recommender/main3.ipynb#ch0000019?line=8'>9</a>\u001b[0m loss \u001b[39m=\u001b[39m F\u001b[39m.\u001b[39mcross_entropy(out[\u001b[39m'\u001b[39m\u001b[39mmovie\u001b[39m\u001b[39m'\u001b[39m], data2[\u001b[39m'\u001b[39m\u001b[39mmovie\u001b[39m\u001b[39m'\u001b[39m]\u001b[39m.\u001b[39my)\n",
      "File \u001b[0;32m~/anaconda3/envs/pyg/lib/python3.8/site-packages/torch/fx/graph_module.py:616\u001b[0m, in \u001b[0;36mGraphModule.recompile.<locals>.wrapped_call\u001b[0;34m(self, *args, **kwargs)\u001b[0m\n\u001b[1;32m    <a href='file:///~/anaconda3/envs/pyg/lib/python3.8/site-packages/torch/fx/graph_module.py?line=612'>613</a>\u001b[0m \u001b[39mif\u001b[39;00m \u001b[39m\"\u001b[39m\u001b[39meval_with_key\u001b[39m\u001b[39m\"\u001b[39m \u001b[39min\u001b[39;00m topmost_framesummary\u001b[39m.\u001b[39mfilename:\n\u001b[1;32m    <a href='file:///~/anaconda3/envs/pyg/lib/python3.8/site-packages/torch/fx/graph_module.py?line=613'>614</a>\u001b[0m     \u001b[39mprint\u001b[39m(generate_error_message(topmost_framesummary),\n\u001b[1;32m    <a href='file:///~/anaconda3/envs/pyg/lib/python3.8/site-packages/torch/fx/graph_module.py?line=614'>615</a>\u001b[0m           file\u001b[39m=\u001b[39msys\u001b[39m.\u001b[39mstderr)\n\u001b[0;32m--> <a href='file:///~/anaconda3/envs/pyg/lib/python3.8/site-packages/torch/fx/graph_module.py?line=615'>616</a>\u001b[0m \u001b[39mraise\u001b[39;00m e\u001b[39m.\u001b[39mwith_traceback(\u001b[39mNone\u001b[39;00m)\n",
      "\u001b[0;31mRuntimeError\u001b[0m: expected scalar type Float but found Long"
     ]
    }
   ],
   "source": [
    "optimizer = torch.optim.Adam(params=model.parameters(), lr=0.0001)\n",
    "def train():\n",
    "    model.train()\n",
    "    optimizer.zero_grad()\n",
    "    # out = model(data.x_dict, data.edge_index_dict)\n",
    "    # out = model(data.xd, data.edge_index_dict)\n",
    "    out = model(data2.x_dict, data2.edge_index_dict)\n",
    "    # mask = data['paper'].train_mask\n",
    "    loss = F.cross_entropy(out['movie'], data2['movie'].y)\n",
    "    loss.backward()\n",
    "    optimizer.step()\n",
    "    return float(loss)\n",
    "\n",
    "for epoch in range(1, 3+1):\n",
    "    loss = train()\n",
    "    print(loss.item())"
   ]
  },
  {
   "cell_type": "markdown",
   "metadata": {},
   "source": [
    "## training in mini batch mode"
   ]
  },
  {
   "cell_type": "code",
   "execution_count": 61,
   "metadata": {},
   "outputs": [
    {
     "ename": "RuntimeError",
     "evalue": "expected scalar type Long but found Int",
     "output_type": "error",
     "traceback": [
      "\u001b[0;31m---------------------------------------------------------------------------\u001b[0m",
      "\u001b[0;31mRuntimeError\u001b[0m                              Traceback (most recent call last)",
      "\u001b[1;32m/home/sina/PycharmProjects/movie_recommender/main3.ipynb Cell 23'\u001b[0m in \u001b[0;36m<module>\u001b[0;34m\u001b[0m\n\u001b[1;32m      <a href='vscode-notebook-cell:/home/sina/PycharmProjects/movie_recommender/main3.ipynb#ch0000028?line=2'>3</a>\u001b[0m \u001b[39mfrom\u001b[39;00m \u001b[39mtorch_geometric\u001b[39;00m\u001b[39m.\u001b[39;00m\u001b[39mloader\u001b[39;00m \u001b[39mimport\u001b[39;00m NeighborLoader\n\u001b[1;32m      <a href='vscode-notebook-cell:/home/sina/PycharmProjects/movie_recommender/main3.ipynb#ch0000028?line=4'>5</a>\u001b[0m \u001b[39m# transform = T.ToUndirected()  # Add reverse edge types.\u001b[39;00m\n\u001b[0;32m----> <a href='vscode-notebook-cell:/home/sina/PycharmProjects/movie_recommender/main3.ipynb#ch0000028?line=6'>7</a>\u001b[0m train_loader \u001b[39m=\u001b[39m NeighborLoader(\n\u001b[1;32m      <a href='vscode-notebook-cell:/home/sina/PycharmProjects/movie_recommender/main3.ipynb#ch0000028?line=7'>8</a>\u001b[0m     data,\n\u001b[1;32m      <a href='vscode-notebook-cell:/home/sina/PycharmProjects/movie_recommender/main3.ipynb#ch0000028?line=8'>9</a>\u001b[0m     \u001b[39m# Sample 15 neighbors for each node and each edge type for 2 iterations:\u001b[39;49;00m\n\u001b[1;32m     <a href='vscode-notebook-cell:/home/sina/PycharmProjects/movie_recommender/main3.ipynb#ch0000028?line=9'>10</a>\u001b[0m     num_neighbors\u001b[39m=\u001b[39;49m[\u001b[39m15\u001b[39;49m] \u001b[39m*\u001b[39;49m \u001b[39m2\u001b[39;49m,\n\u001b[1;32m     <a href='vscode-notebook-cell:/home/sina/PycharmProjects/movie_recommender/main3.ipynb#ch0000028?line=10'>11</a>\u001b[0m     \u001b[39m# Use a batch size of 128 for sampling training nodes of type \"user\":\u001b[39;49;00m\n\u001b[1;32m     <a href='vscode-notebook-cell:/home/sina/PycharmProjects/movie_recommender/main3.ipynb#ch0000028?line=11'>12</a>\u001b[0m     batch_size\u001b[39m=\u001b[39;49m\u001b[39m128\u001b[39;49m,\n\u001b[1;32m     <a href='vscode-notebook-cell:/home/sina/PycharmProjects/movie_recommender/main3.ipynb#ch0000028?line=12'>13</a>\u001b[0m     input_nodes\u001b[39m=\u001b[39;49m(\u001b[39m'\u001b[39;49m\u001b[39muser\u001b[39;49m\u001b[39m'\u001b[39;49m, data[\u001b[39m'\u001b[39;49m\u001b[39muser\u001b[39;49m\u001b[39m'\u001b[39;49m]),\n\u001b[1;32m     <a href='vscode-notebook-cell:/home/sina/PycharmProjects/movie_recommender/main3.ipynb#ch0000028?line=13'>14</a>\u001b[0m )\n\u001b[1;32m     <a href='vscode-notebook-cell:/home/sina/PycharmProjects/movie_recommender/main3.ipynb#ch0000028?line=15'>16</a>\u001b[0m batch \u001b[39m=\u001b[39m \u001b[39mnext\u001b[39m(\u001b[39miter\u001b[39m(train_loader))\n",
      "File \u001b[0;32m~/anaconda3/envs/pyg/lib/python3.8/site-packages/torch_geometric/loader/neighbor_loader.py:229\u001b[0m, in \u001b[0;36mNeighborLoader.__init__\u001b[0;34m(self, data, num_neighbors, input_nodes, replace, directed, transform, neighbor_sampler, **kwargs)\u001b[0m\n\u001b[1;32m    <a href='file:///~/anaconda3/envs/pyg/lib/python3.8/site-packages/torch_geometric/loader/neighbor_loader.py?line=226'>227</a>\u001b[0m \u001b[39mif\u001b[39;00m neighbor_sampler \u001b[39mis\u001b[39;00m \u001b[39mNone\u001b[39;00m:\n\u001b[1;32m    <a href='file:///~/anaconda3/envs/pyg/lib/python3.8/site-packages/torch_geometric/loader/neighbor_loader.py?line=227'>228</a>\u001b[0m     input_node_type \u001b[39m=\u001b[39m get_input_node_type(input_nodes)\n\u001b[0;32m--> <a href='file:///~/anaconda3/envs/pyg/lib/python3.8/site-packages/torch_geometric/loader/neighbor_loader.py?line=228'>229</a>\u001b[0m     \u001b[39mself\u001b[39m\u001b[39m.\u001b[39mneighbor_sampler \u001b[39m=\u001b[39m NeighborSampler(data, num_neighbors,\n\u001b[1;32m    <a href='file:///~/anaconda3/envs/pyg/lib/python3.8/site-packages/torch_geometric/loader/neighbor_loader.py?line=229'>230</a>\u001b[0m                                             replace, directed,\n\u001b[1;32m    <a href='file:///~/anaconda3/envs/pyg/lib/python3.8/site-packages/torch_geometric/loader/neighbor_loader.py?line=230'>231</a>\u001b[0m                                             input_node_type)\n\u001b[1;32m    <a href='file:///~/anaconda3/envs/pyg/lib/python3.8/site-packages/torch_geometric/loader/neighbor_loader.py?line=232'>233</a>\u001b[0m \u001b[39mreturn\u001b[39;00m \u001b[39msuper\u001b[39m()\u001b[39m.\u001b[39m\u001b[39m__init__\u001b[39m(get_input_node_indices(\u001b[39mself\u001b[39m\u001b[39m.\u001b[39mdata, input_nodes),\n\u001b[1;32m    <a href='file:///~/anaconda3/envs/pyg/lib/python3.8/site-packages/torch_geometric/loader/neighbor_loader.py?line=233'>234</a>\u001b[0m                         collate_fn\u001b[39m=\u001b[39m\u001b[39mself\u001b[39m\u001b[39m.\u001b[39mneighbor_sampler, \u001b[39m*\u001b[39m\u001b[39m*\u001b[39mkwargs)\n",
      "File \u001b[0;32m~/anaconda3/envs/pyg/lib/python3.8/site-packages/torch_geometric/loader/neighbor_loader.py:41\u001b[0m, in \u001b[0;36mNeighborSampler.__init__\u001b[0;34m(self, data, num_neighbors, replace, directed, input_node_type)\u001b[0m\n\u001b[1;32m     <a href='file:///~/anaconda3/envs/pyg/lib/python3.8/site-packages/torch_geometric/loader/neighbor_loader.py?line=34'>35</a>\u001b[0m     \u001b[39massert\u001b[39;00m \u001b[39misinstance\u001b[39m(num_neighbors, (\u001b[39mlist\u001b[39m, \u001b[39mtuple\u001b[39m))\n\u001b[1;32m     <a href='file:///~/anaconda3/envs/pyg/lib/python3.8/site-packages/torch_geometric/loader/neighbor_loader.py?line=36'>37</a>\u001b[0m \u001b[39melif\u001b[39;00m \u001b[39misinstance\u001b[39m(data, HeteroData):\n\u001b[1;32m     <a href='file:///~/anaconda3/envs/pyg/lib/python3.8/site-packages/torch_geometric/loader/neighbor_loader.py?line=37'>38</a>\u001b[0m     \u001b[39m# Convert the graph data into a suitable format for sampling.\u001b[39;00m\n\u001b[1;32m     <a href='file:///~/anaconda3/envs/pyg/lib/python3.8/site-packages/torch_geometric/loader/neighbor_loader.py?line=38'>39</a>\u001b[0m     \u001b[39m# NOTE: Since C++ cannot take dictionaries with tuples as key as\u001b[39;00m\n\u001b[1;32m     <a href='file:///~/anaconda3/envs/pyg/lib/python3.8/site-packages/torch_geometric/loader/neighbor_loader.py?line=39'>40</a>\u001b[0m     \u001b[39m# input, edge type triplets are converted into single strings.\u001b[39;00m\n\u001b[0;32m---> <a href='file:///~/anaconda3/envs/pyg/lib/python3.8/site-packages/torch_geometric/loader/neighbor_loader.py?line=40'>41</a>\u001b[0m     out \u001b[39m=\u001b[39m to_hetero_csc(data, device\u001b[39m=\u001b[39;49m\u001b[39m'\u001b[39;49m\u001b[39mcpu\u001b[39;49m\u001b[39m'\u001b[39;49m)\n\u001b[1;32m     <a href='file:///~/anaconda3/envs/pyg/lib/python3.8/site-packages/torch_geometric/loader/neighbor_loader.py?line=41'>42</a>\u001b[0m     \u001b[39mself\u001b[39m\u001b[39m.\u001b[39mcolptr_dict, \u001b[39mself\u001b[39m\u001b[39m.\u001b[39mrow_dict, \u001b[39mself\u001b[39m\u001b[39m.\u001b[39mperm_dict \u001b[39m=\u001b[39m out\n\u001b[1;32m     <a href='file:///~/anaconda3/envs/pyg/lib/python3.8/site-packages/torch_geometric/loader/neighbor_loader.py?line=43'>44</a>\u001b[0m     \u001b[39mself\u001b[39m\u001b[39m.\u001b[39mnode_types, \u001b[39mself\u001b[39m\u001b[39m.\u001b[39medge_types \u001b[39m=\u001b[39m data\u001b[39m.\u001b[39mmetadata()\n",
      "File \u001b[0;32m~/anaconda3/envs/pyg/lib/python3.8/site-packages/torch_geometric/loader/utils.py:72\u001b[0m, in \u001b[0;36mto_hetero_csc\u001b[0;34m(data, device)\u001b[0m\n\u001b[1;32m     <a href='file:///~/anaconda3/envs/pyg/lib/python3.8/site-packages/torch_geometric/loader/utils.py?line=69'>70</a>\u001b[0m \u001b[39mfor\u001b[39;00m store \u001b[39min\u001b[39;00m data\u001b[39m.\u001b[39medge_stores:\n\u001b[1;32m     <a href='file:///~/anaconda3/envs/pyg/lib/python3.8/site-packages/torch_geometric/loader/utils.py?line=70'>71</a>\u001b[0m     key \u001b[39m=\u001b[39m edge_type_to_str(store\u001b[39m.\u001b[39m_key)\n\u001b[0;32m---> <a href='file:///~/anaconda3/envs/pyg/lib/python3.8/site-packages/torch_geometric/loader/utils.py?line=71'>72</a>\u001b[0m     colptr_dict[key], row_dict[key], perm_dict[key] \u001b[39m=\u001b[39m to_csc(store, device)\n\u001b[1;32m     <a href='file:///~/anaconda3/envs/pyg/lib/python3.8/site-packages/torch_geometric/loader/utils.py?line=73'>74</a>\u001b[0m \u001b[39mreturn\u001b[39;00m colptr_dict, row_dict, perm_dict\n",
      "File \u001b[0;32m~/anaconda3/envs/pyg/lib/python3.8/site-packages/torch_geometric/loader/utils.py:51\u001b[0m, in \u001b[0;36mto_csc\u001b[0;34m(data, device)\u001b[0m\n\u001b[1;32m     <a href='file:///~/anaconda3/envs/pyg/lib/python3.8/site-packages/torch_geometric/loader/utils.py?line=48'>49</a>\u001b[0m     size \u001b[39m=\u001b[39m data\u001b[39m.\u001b[39msize()\n\u001b[1;32m     <a href='file:///~/anaconda3/envs/pyg/lib/python3.8/site-packages/torch_geometric/loader/utils.py?line=49'>50</a>\u001b[0m     perm \u001b[39m=\u001b[39m (col \u001b[39m*\u001b[39m size[\u001b[39m0\u001b[39m])\u001b[39m.\u001b[39madd_(row)\u001b[39m.\u001b[39margsort()\n\u001b[0;32m---> <a href='file:///~/anaconda3/envs/pyg/lib/python3.8/site-packages/torch_geometric/loader/utils.py?line=50'>51</a>\u001b[0m     colptr \u001b[39m=\u001b[39m torch\u001b[39m.\u001b[39;49mops\u001b[39m.\u001b[39;49mtorch_sparse\u001b[39m.\u001b[39;49mind2ptr(col[perm], size[\u001b[39m1\u001b[39;49m])\n\u001b[1;32m     <a href='file:///~/anaconda3/envs/pyg/lib/python3.8/site-packages/torch_geometric/loader/utils.py?line=51'>52</a>\u001b[0m     \u001b[39mreturn\u001b[39;00m colptr\u001b[39m.\u001b[39mto(device), row[perm]\u001b[39m.\u001b[39mto(device), perm\u001b[39m.\u001b[39mto(device)\n\u001b[1;32m     <a href='file:///~/anaconda3/envs/pyg/lib/python3.8/site-packages/torch_geometric/loader/utils.py?line=53'>54</a>\u001b[0m \u001b[39mraise\u001b[39;00m \u001b[39mAttributeError\u001b[39;00m(\n\u001b[1;32m     <a href='file:///~/anaconda3/envs/pyg/lib/python3.8/site-packages/torch_geometric/loader/utils.py?line=54'>55</a>\u001b[0m     \u001b[39m\"\u001b[39m\u001b[39mData object does not contain attributes \u001b[39m\u001b[39m'\u001b[39m\u001b[39madj_t\u001b[39m\u001b[39m'\u001b[39m\u001b[39m or \u001b[39m\u001b[39m'\u001b[39m\u001b[39medge_index\u001b[39m\u001b[39m'\u001b[39m\u001b[39m\"\u001b[39m)\n",
      "\u001b[0;31mRuntimeError\u001b[0m: expected scalar type Long but found Int"
     ]
    }
   ],
   "source": [
    "# Performing neighbor sampling using NeighborLoader\n",
    "import torch_geometric.transforms as T\n",
    "from torch_geometric.loader import NeighborLoader\n",
    "\n",
    "# transform = T.ToUndirected()  # Add reverse edge types.\n",
    "\n",
    "train_loader = NeighborLoader(\n",
    "    data,\n",
    "    # Sample 15 neighbors for each node and each edge type for 2 iterations:\n",
    "    num_neighbors=[15] * 2,\n",
    "    # Use a batch size of 128 for sampling training nodes of type \"user\":\n",
    "    batch_size=128,\n",
    "    input_nodes=('user', data['user']),\n",
    ")\n",
    "\n",
    "batch = next(iter(train_loader))"
   ]
  },
  {
   "cell_type": "code",
   "execution_count": 62,
   "metadata": {},
   "outputs": [
    {
     "data": {
      "text/plain": [
       "HeteroData(\n",
       "  \u001b[1muser\u001b[0m={ x=[69840, 1] },\n",
       "  \u001b[1mmovie\u001b[0m={ x=[1317, 18] },\n",
       "  \u001b[1m(user, rate, movie)\u001b[0m={\n",
       "    edge_index=[2, 9948244],\n",
       "    edge_attr=[9948244, 1]\n",
       "  }\n",
       ")"
      ]
     },
     "execution_count": 62,
     "metadata": {},
     "output_type": "execute_result"
    }
   ],
   "source": [
    "data"
   ]
  },
  {
   "cell_type": "code",
   "execution_count": 66,
   "metadata": {},
   "outputs": [
    {
     "data": {
      "text/plain": [
       "({'x': tensor([[0],\n",
       "         [0],\n",
       "         [0],\n",
       "         ...,\n",
       "         [0],\n",
       "         [0],\n",
       "         [0]], dtype=torch.int32)},\n",
       " {'x': tensor([[1, 1, 1,  ..., 0, 0, 0],\n",
       "         [1, 0, 1,  ..., 0, 0, 0],\n",
       "         [0, 0, 0,  ..., 0, 0, 0],\n",
       "         ...,\n",
       "         [1, 0, 0,  ..., 0, 0, 0],\n",
       "         [0, 0, 0,  ..., 0, 0, 0],\n",
       "         [0, 0, 0,  ..., 0, 0, 0]], dtype=torch.int32)},\n",
       " {})"
      ]
     },
     "execution_count": 66,
     "metadata": {},
     "output_type": "execute_result"
    }
   ],
   "source": [
    "data['user'], data['movie']"
   ]
  },
  {
   "cell_type": "code",
   "execution_count": null,
   "metadata": {},
   "outputs": [],
   "source": []
  }
 ],
 "metadata": {
  "interpreter": {
   "hash": "f51edbcfed46dde0fadb0d95ca63501d46d8e67bef8440c64e8d20599c465dc9"
  },
  "kernelspec": {
   "display_name": "Python 3.8.12 ('pyg')",
   "language": "python",
   "name": "python3"
  },
  "language_info": {
   "codemirror_mode": {
    "name": "ipython",
    "version": 3
   },
   "file_extension": ".py",
   "mimetype": "text/x-python",
   "name": "python",
   "nbconvert_exporter": "python",
   "pygments_lexer": "ipython3",
   "version": "3.8.12"
  },
  "orig_nbformat": 4
 },
 "nbformat": 4,
 "nbformat_minor": 2
}
